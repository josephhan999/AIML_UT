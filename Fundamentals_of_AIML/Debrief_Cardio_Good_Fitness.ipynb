{
 "cells": [
  {
   "cell_type": "markdown",
   "id": "5af03657",
   "metadata": {},
   "source": [
    "## Objective:\n",
    "\n",
    "- Explore the dataset and extract actionable insights that will enable growth in the market\n",
    "- Perform univariate and multivariate analysis.\n",
    "- Building customer profiles (characteristics of a customer) for the different products\n",
    "- Generate set recommendations that will help the company in targeting new customers\n",
    "\n",
    "## Data:\n",
    "**CardioGoodFitness.csv** - it contains information about customers purchasing product \n",
    "\n",
    "- Product - The model no. of the treadmill\n",
    "- Age -  Age of the customer in no of years\n",
    "- Gender - Gender of the customer\n",
    "- Education - Education of the customer in no. of years\n",
    "- Marital Status - Marital status of the customer\n",
    "- Usage - Avg. # times the customer wants to use the treadmill every week\n",
    "- Fitness - Self rated fitness score of the customer (5 - very fit, 1 - very unfit)\n",
    "- Income - Income of the customer\n",
    "- Miles- Miles that a customer expects to run"
   ]
  },
  {
   "cell_type": "markdown",
   "id": "c3efe4f2",
   "metadata": {},
   "source": [
    "### Import the necessary packages"
   ]
  },
  {
   "cell_type": "code",
   "execution_count": null,
   "id": "8b30661b",
   "metadata": {},
   "outputs": [],
   "source": [
    "import pandas as pd\n",
    "import numpy as np\n",
    "import seaborn as sns\n",
    "import matplotlib.pyplot as plt\n",
    "\n",
    "sns.set(color_codes=True)\n",
    "import warnings\n",
    "warnings.filterwarnings('ignore')\n",
    "\n",
    "import missingno as mnso\n"
   ]
  }
 ],
 "metadata": {
  "kernelspec": {
   "display_name": "Python 3 (ipykernel)",
   "language": "python",
   "name": "python3"
  },
  "language_info": {
   "codemirror_mode": {
    "name": "ipython",
    "version": 3
   },
   "file_extension": ".py",
   "mimetype": "text/x-python",
   "name": "python",
   "nbconvert_exporter": "python",
   "pygments_lexer": "ipython3",
   "version": "3.9.7"
  }
 },
 "nbformat": 4,
 "nbformat_minor": 5
}
